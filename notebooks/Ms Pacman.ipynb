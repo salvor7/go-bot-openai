{
 "cells": [
  {
   "cell_type": "markdown",
   "metadata": {},
   "source": [
    "# MS Pacman Gym"
   ]
  },
  {
   "cell_type": "code",
   "execution_count": 1,
   "metadata": {},
   "outputs": [],
   "source": [
    "import matplotlib.pyplot as plt\n",
    "%matplotlib inline\n",
    "from IPython import display"
   ]
  },
  {
   "cell_type": "code",
   "execution_count": 2,
   "metadata": {},
   "outputs": [],
   "source": [
    "import gym"
   ]
  },
  {
   "cell_type": "code",
   "execution_count": 3,
   "metadata": {},
   "outputs": [
    {
     "name": "stderr",
     "output_type": "stream",
     "text": [
      "[2018-02-01 05:43:27,556] Making new env: MsPacman-v0\n"
     ]
    }
   ],
   "source": [
    "env = gym.make('MsPacman-v0')"
   ]
  },
  {
   "cell_type": "code",
   "execution_count": 4,
   "metadata": {},
   "outputs": [],
   "source": [
    "import time\n",
    "\n",
    "def show_state(raw_image, step=0, info=\"\", delay=0.):\n",
    "    \"\"\"Render an image of the environment\"\"\"\n",
    "    plt.figure(3)\n",
    "    plt.clf()\n",
    "    try:\n",
    "        plt.imshow(raw_image)\n",
    "    except TypeError:\n",
    "        plt.imshow(raw_image, cmap='gray')\n",
    "    plt.title(f\"{env.spec.id} | Step: {step} {info}\")\n",
    "    display.clear_output(wait=True)\n",
    "    display.display(plt.gcf())\n",
    "    time.sleep(delay)"
   ]
  },
  {
   "cell_type": "code",
   "execution_count": 5,
   "metadata": {},
   "outputs": [
    {
     "data": {
      "image/png": "[encoded data removed]",
      "text/plain": [
       "<matplotlib.figure.Figure at 0x7fb5d2a232b0>"
      ]
     },
     "metadata": {},
     "output_type": "display_data"
    },
    {
     "data": {
      "image/png": "[encoded data removed]",
      "text/plain": [
       "<matplotlib.figure.Figure at 0x7fb5d2a232b0>"
      ]
     },
     "metadata": {},
     "output_type": "display_data"
    }
   ],
   "source": [
    "env.reset()\n",
    "\n",
    "for step in range(130):\n",
    "    env.step(env.action_space.sample())\n",
    "    if step > 80:\n",
    "        show_state(env.render(mode='rgb_array'), step=step)"
   ]
  },
  {
   "cell_type": "markdown",
   "metadata": {},
   "source": [
    "# Preprocess Images of Ms Pacman"
   ]
  },
  {
   "cell_type": "code",
   "execution_count": 6,
   "metadata": {},
   "outputs": [],
   "source": [
    "import numpy as np"
   ]
  },
  {
   "cell_type": "code",
   "execution_count": 7,
   "metadata": {},
   "outputs": [
    {
     "data": {
      "text/plain": [
       "(210, 160, 3)"
      ]
     },
     "execution_count": 7,
     "metadata": {},
     "output_type": "execute_result"
    }
   ],
   "source": [
    "env.reset().shape"
   ]
  },
  {
   "cell_type": "code",
   "execution_count": 8,
   "metadata": {},
   "outputs": [],
   "source": [
    "def shrink_mspacman(obs):\n",
    "    mspacman_color = np.array([210, 164, 74]).mean()\n",
    "    \n",
    "    img = obs[1:176:2, ::2]        # crop bottom and downsize by losing every second pixel\n",
    "    img = img.mean(axis=2)         # average across channels to greyscale\n",
    "    img[img==mspacman_color] = 0   # improve contrast\n",
    "    \n",
    "    img = (img - 256)/128          # normalize to -1 to 1\n",
    "    return img    "
   ]
  },
  {
   "cell_type": "code",
   "execution_count": 9,
   "metadata": {},
   "outputs": [],
   "source": [
    "def preprocess_observation(obs):\n",
    "    img = shrink_mspacman(obs)\n",
    "    h, w = img.shape\n",
    "    return img.reshape((h,w,1))"
   ]
  },
  {
   "cell_type": "code",
   "execution_count": 10,
   "metadata": {},
   "outputs": [
    {
     "data": {
      "image/png": "[encoded data removed]",
      "text/plain": [
       "<matplotlib.figure.Figure at 0x7fb5ca653320>"
      ]
     },
     "metadata": {},
     "output_type": "display_data"
    },
    {
     "data": {
      "image/png": "[encoded data removed]",
      "text/plain": [
       "<matplotlib.figure.Figure at 0x7fb5ca653320>"
      ]
     },
     "metadata": {},
     "output_type": "display_data"
    }
   ],
   "source": [
    "env.reset()\n",
    "\n",
    "for _ in range(80):\n",
    "    _,_, done, _ = env.step(env.action_space.sample())\n",
    "\n",
    "for step in range(40):\n",
    "    _,_, done, _ = env.step(env.action_space.sample())\n",
    "    env_image = shrink_mspacman(env.render(mode='rgb_array'))\n",
    "    show_state(env_image, step=step, )"
   ]
  },
  {
   "cell_type": "code",
   "execution_count": 11,
   "metadata": {},
   "outputs": [
    {
     "data": {
      "text/plain": [
       "(88, 80)"
      ]
     },
     "execution_count": 11,
     "metadata": {},
     "output_type": "execute_result"
    }
   ],
   "source": [
    "env_image.shape"
   ]
  },
  {
   "cell_type": "markdown",
   "metadata": {},
   "source": [
    "## The Neural networks\n",
    "Define the actor and the critic networks."
   ]
  },
  {
   "cell_type": "code",
   "execution_count": 12,
   "metadata": {},
   "outputs": [],
   "source": [
    "import tensorflow as tf\n",
    "from tensorflow.contrib.layers import convolution2d, fully_connected"
   ]
  },
  {
   "cell_type": "code",
   "execution_count": 13,
   "metadata": {},
   "outputs": [],
   "source": [
    "initializer = tf.contrib.layers.variance_scaling_initializer()\n",
    "learning_rate = 0.01"
   ]
  },
  {
   "cell_type": "code",
   "execution_count": 14,
   "metadata": {},
   "outputs": [],
   "source": [
    "# input Parameters\n",
    "input_height, input_width = env_image.shape\n",
    "input_channels = 1"
   ]
  },
  {
   "cell_type": "code",
   "execution_count": 15,
   "metadata": {},
   "outputs": [],
   "source": [
    "# convolution parameters\n",
    "conv_maps = [32,64,64]\n",
    "conv_kernals_sizes = [(8,8), (4,4), (3,3)]\n",
    "conv_strides = [4,2,1]\n",
    "conv_padding = [\"SAME\"]*3\n",
    "conv_activation = [tf.nn.relu]*3\n",
    "\n",
    "conv_parameters = zip(conv_maps, conv_kernals_sizes, conv_strides, conv_padding, conv_activation)"
   ]
  },
  {
   "cell_type": "code",
   "execution_count": 16,
   "metadata": {},
   "outputs": [],
   "source": [
    "# hidden layer parameters\n",
    "n_hidden_in = 64 * 11 * 10\n",
    "n_hidden = 512\n",
    "hidden_activation = tf.nn.relu"
   ]
  },
  {
   "cell_type": "code",
   "execution_count": 17,
   "metadata": {},
   "outputs": [
    {
     "data": {
      "text/plain": [
       "7040"
      ]
     },
     "execution_count": 17,
     "metadata": {},
     "output_type": "execute_result"
    }
   ],
   "source": [
    "n_hidden_in"
   ]
  },
  {
   "cell_type": "code",
   "execution_count": 18,
   "metadata": {},
   "outputs": [],
   "source": [
    "# output size\n",
    "n_outputs = env.action_space.n"
   ]
  },
  {
   "cell_type": "code",
   "execution_count": 19,
   "metadata": {},
   "outputs": [],
   "source": [
    "# the Q network\n",
    "def q_network(X_state, scope):\n",
    "    prev_layer = X_state\n",
    "    conv_layers = []\n",
    "    \n",
    "    with tf.variable_scope(scope) as scope:\n",
    "        # add the convolution layers to scope\n",
    "        for n_maps, kernel_size, stride, padding, activtion in conv_parameters:\n",
    "            prev_layer = convolution2d(prev_layer, \n",
    "                                       num_outputs=n_maps,\n",
    "                                       kernel_size=kernel_size,\n",
    "                                       stride=stride,\n",
    "                                       padding=padding,\n",
    "                                       activation_fn=activtion,\n",
    "                                       weights_initializer=initializer,\n",
    "                                      )\n",
    "            conv_layers.append(prev_layer)\n",
    "        last_conv_layer_flat = tf.reshape(prev_layer, shape=[-1,n_hidden_in])\n",
    "        \n",
    "        # add the hidden layer to scope\n",
    "        hidden = fully_connected(last_conv_layer_flat,\n",
    "                                 n_hidden,\n",
    "                                 activation_fn=hidden_activation,\n",
    "                                 weights_initializer=initializer,\n",
    "                                )\n",
    "        \n",
    "        # add output layer to scope\n",
    "        outputs = fully_connected(hidden,\n",
    "                                  n_outputs,\n",
    "                                  activation_fn=None,\n",
    "                                  weights_initializer=initializer,\n",
    "                                 )\n",
    "    # return trainable variable pointers\n",
    "    trainable_vars = tf.get_collection(tf.GraphKeys.TRAINABLE_VARIABLES, scope=scope.name)\n",
    "    trainable_vars_by_name = {var.name[len(scope.name)]: var for var in trainable_vars}\n",
    "    return outputs, trainable_vars_by_name\n",
    "    "
   ]
  },
  {
   "cell_type": "code",
   "execution_count": 20,
   "metadata": {},
   "outputs": [],
   "source": [
    "# Initial state\n",
    "X_state = tf.placeholder(tf.float32, shape=[None, input_height, input_width, input_channels])"
   ]
  },
  {
   "cell_type": "code",
   "execution_count": 21,
   "metadata": {},
   "outputs": [],
   "source": [
    "# define the Q networks for the actor and critic\n",
    "actor_q_values, actor_variables = q_network(X_state, scope='q_network/actor')\n",
    "critic_q_values, critic_variables = q_network(X_state, scope='q_network/critic')"
   ]
  },
  {
   "cell_type": "code",
   "execution_count": 22,
   "metadata": {},
   "outputs": [],
   "source": [
    "# copy critic to actor\n",
    "copy_ops = [actor_var.assign(critic_variables[var_name]) for var_name, actor_var in actor_variables.items()]\n",
    "copy_critic_to_actor = tf.group(*copy_ops)"
   ]
  },
  {
   "cell_type": "code",
   "execution_count": 23,
   "metadata": {},
   "outputs": [],
   "source": [
    "# calculate the Q-value of the action taken by the actor\n",
    "X_action = tf.placeholder(tf.int32, shape=[None])\n",
    "q_value = tf.reduce_sum(critic_q_values * tf.one_hot(X_action, n_outputs), axis=1, keep_dims=True)"
   ]
  },
  {
   "cell_type": "code",
   "execution_count": 24,
   "metadata": {},
   "outputs": [],
   "source": [
    "# training operations\n",
    "y = tf.placeholder(tf.float32, shape=[None,1])\n",
    "cost = tf.reduce_mean(tf.square(y - q_value))\n",
    "\n",
    "global_step = tf.Variable(0, trainable=False, name='global_step')\n",
    "optimizer = tf.train.AdamOptimizer(learning_rate)\n",
    "training_op = optimizer.minimize(cost, global_step=global_step)"
   ]
  },
  {
   "cell_type": "code",
   "execution_count": 25,
   "metadata": {},
   "outputs": [],
   "source": [
    "init = tf.global_variables_initializer()\n",
    "saver = tf.train.Saver()"
   ]
  },
  {
   "cell_type": "markdown",
   "metadata": {},
   "source": [
    "## Memory sampling for critic"
   ]
  },
  {
   "cell_type": "code",
   "execution_count": 26,
   "metadata": {},
   "outputs": [],
   "source": [
    "from collections import deque"
   ]
  },
  {
   "cell_type": "code",
   "execution_count": 27,
   "metadata": {},
   "outputs": [],
   "source": [
    "# memory setup\n",
    "replay_memory_size = 1000\n",
    "replay_memory = deque([], maxlen=replay_memory_size)"
   ]
  },
  {
   "cell_type": "code",
   "execution_count": 28,
   "metadata": {},
   "outputs": [],
   "source": [
    "def sample_memories(batch_size):\n",
    "    indices = np.random.permutation(len(replay_memory))[:batch_size]\n",
    "    cols = [[], [], [], [], []]    # state, action, reward, next_state, continue\n",
    "\n",
    "    for idx in indices:\n",
    "        memory = replay_memory[idx]\n",
    "        for col, value in zip(cols, memory):\n",
    "            col.append(value)\n",
    "    cols = [np.array(col) for col in cols]\n",
    "    return cols[0], cols[1], cols[2].reshape(-1,1), cols[3], cols[4].reshape(-1,1)"
   ]
  },
  {
   "cell_type": "markdown",
   "metadata": {},
   "source": [
    "## Exploring policy parameters for actor"
   ]
  },
  {
   "cell_type": "code",
   "execution_count": 29,
   "metadata": {},
   "outputs": [],
   "source": [
    "epsilon_min = 0.05\n",
    "epsilon_max = 1.\n",
    "epsilon_decay_steps = 50000"
   ]
  },
  {
   "cell_type": "code",
   "execution_count": 30,
   "metadata": {},
   "outputs": [],
   "source": [
    "def epsilon_greedy_policy(q_values, step):\n",
    "    interpolate = (epsilon_max - epsilon_min) * step / epsilon_decay_steps\n",
    "    epsilon = max(epsilon_min, epsilon_max - interpolate)\n",
    "    \n",
    "    # random if less than epsilon else optimal\n",
    "    return np.random.randint(n_outputs) if np.random.rand() < epsilon else np.argmax(q_values)"
   ]
  },
  {
   "cell_type": "markdown",
   "metadata": {},
   "source": [
    "## Test Actor"
   ]
  },
  {
   "cell_type": "code",
   "execution_count": 31,
   "metadata": {},
   "outputs": [
    {
     "name": "stderr",
     "output_type": "stream",
     "text": [
      "[2018-02-01 05:43:40,380] Making new env: MsPacman-v0\n"
     ]
    }
   ],
   "source": [
    "test_env = gym.make('MsPacman-v0')"
   ]
  },
  {
   "cell_type": "code",
   "execution_count": 32,
   "metadata": {},
   "outputs": [],
   "source": [
    "def observe_actor_play():\n",
    "    obs = test_env.reset()\n",
    "\n",
    "    for _ in range(80):\n",
    "        obs, _, done, _ = test_env.step(0)\n",
    "    \n",
    "    state = preprocess_observation(obs)\n",
    "    \n",
    "    while not done:\n",
    "        # actor evaluates the position\n",
    "        q_values = actor_q_values.eval(feed_dict={X_state: [state]})\n",
    "        # choose and take action\n",
    "        action = epsilon_greedy_policy(q_values, step)\n",
    "        obs, reward, done, _ = test_env.step(action)\n",
    "        test_env.step(action)\n",
    "        show_state(test_env.render(mode='rgb_array'), step=step)"
   ]
  },
  {
   "cell_type": "markdown",
   "metadata": {},
   "source": [
    "# Training"
   ]
  },
  {
   "cell_type": "code",
   "execution_count": 33,
   "metadata": {},
   "outputs": [],
   "source": [
    "import os"
   ]
  },
  {
   "cell_type": "code",
   "execution_count": 34,
   "metadata": {},
   "outputs": [],
   "source": [
    "# parameters\n",
    "skip_start = 80         # skip the start of every game, as it is just waiting\n",
    "training_burnin = 100     # train after 1000 game iterations\n",
    "training_interval = 3   # run a training step every __ game iterations\n",
    "batch_size = 5\n",
    "\n",
    "n_steps = 200         # total number of training steps\n",
    "save_steps = 50         # save the model every __ training steps\n",
    "copy_steps = 25         # copy the critic to actor every __ steps\n",
    "observe_steps = 2*copy_steps      # observe the actor play \n",
    "\n",
    "discount_rate = 0.95    #\n",
    "checkpoint_path = './my_dqn.ckpt'"
   ]
  },
  {
   "cell_type": "code",
   "execution_count": 35,
   "metadata": {},
   "outputs": [],
   "source": [
    "def reset_game_environment():\n",
    "    obs = env.reset()\n",
    "    for _ in range(skip_start-1):\n",
    "        env.step(0)\n",
    "    return env.step(0)  # return obs, reward, done, info"
   ]
  },
  {
   "cell_type": "code",
   "execution_count": 36,
   "metadata": {},
   "outputs": [],
   "source": [
    "def take_and_memorize_game_steps():\n",
    "    iteration = 0     # game iterations\n",
    "    done = True       # initial value for the trigger to reset the game environment\n",
    "    \n",
    "    while True:\n",
    "        if done:\n",
    "            obs, reward, done, _ = reset_game_environment()\n",
    "            state = preprocess_observation(obs)\n",
    "\n",
    "        # actor evaluate the position\n",
    "        q_values = actor_q_values.eval(feed_dict={X_state: [state]})\n",
    "        \n",
    "        # choose and take action\n",
    "        action = epsilon_greedy_policy(q_values, step)\n",
    "        obs, reward, done, _ = env.step(action)\n",
    "        \n",
    "        # memorize what occurred\n",
    "        next_state = preprocess_observation(obs)\n",
    "        replay_memory.append((state, action, reward, next_state, 1.0 - done))\n",
    "        state = next_state\n",
    "        \n",
    "        if iteration >= training_burnin and iteration % training_interval == 0:  \n",
    "            yield\n",
    "        iteration += 1"
   ]
  },
  {
   "cell_type": "code",
   "execution_count": 37,
   "metadata": {},
   "outputs": [],
   "source": [
    "def teach_critic():\n",
    "    # sample some memories\n",
    "    X_state_val, X_action_val, rewards, X_next_state_val, continues = sample_memories(batch_size)\n",
    "    \n",
    "    # calculate actor's Q-values aka estimations of future reward\n",
    "    next_q_values = actor_q_values.eval(feed_dict={X_state: X_next_state_val})\n",
    "    \n",
    "    # pick out the maximum Q-values for each state\n",
    "    max_next_q_values = np.max(next_q_values, axis=1, keepdims=True)\n",
    "    \n",
    "    # calculate the real rewards plus the actor's prediction\n",
    "    y_val = rewards + continues * discount_rate * max_next_q_values\n",
    "    \n",
    "    # train critic\n",
    "    training_op.run(feed_dict={X_state: X_state_val, X_action: X_action_val, y: y_val})"
   ]
  },
  {
   "cell_type": "code",
   "execution_count": 38,
   "metadata": {
    "scrolled": false
   },
   "outputs": [
    {
     "data": {
      "image/png": "[encoded data removed]",
      "text/plain": [
       "<matplotlib.figure.Figure at 0x7fb5ae4dbda0>"
      ]
     },
     "metadata": {},
     "output_type": "display_data"
    },
    {
     "name": "stdout",
     "output_type": "stream",
     "text": [
      "copy critic to actor\n"
     ]
    },
    {
     "data": {
      "image/png": "[encoded data removed]",
      "text/plain": [
       "<matplotlib.figure.Figure at 0x7fb5ae4dbda0>"
      ]
     },
     "metadata": {},
     "output_type": "display_data"
    }
   ],
   "source": [
    "# training session\n",
    "with tf.Session() as session:\n",
    "    # restore previous checkpoint\n",
    "    if os.path.isfile(checkpoint_path):\n",
    "        saver.restore(session, checkpoint_path)\n",
    "    else:\n",
    "        init.run()\n",
    "\n",
    "    for _ in take_and_memorize_game_steps():\n",
    "        step = global_step.eval()\n",
    "        if step >= n_steps:\n",
    "            break\n",
    "            \n",
    "        teach_critic()\n",
    "\n",
    "        # copy, save, and observe. Then increment step\n",
    "        if step % copy_steps == 0:\n",
    "            print('copy critic to actor')\n",
    "            copy_critic_to_actor.run()\n",
    "        #if step % save_steps == 0:\n",
    "            #saver.save(session, checkpoint_path) \n",
    "        if step % observe_steps == 0:\n",
    "            observe_actor_play()\n"
   ]
  },
  {
   "cell_type": "code",
   "execution_count": 39,
   "metadata": {},
   "outputs": [
    {
     "data": {
      "text/plain": [
       "70400"
      ]
     },
     "execution_count": 39,
     "metadata": {},
     "output_type": "execute_result"
    }
   ],
   "source": [
    "88*80*10"
   ]
  },
  {
   "cell_type": "code",
   "execution_count": null,
   "metadata": {},
   "outputs": [],
   "source": []
  }
 ],
 "metadata": {
  "kernelspec": {
   "display_name": "Python 3",
   "language": "python",
   "name": "python3"
  },
  "language_info": {
   "codemirror_mode": {
    "name": "ipython",
    "version": 3
   },
   "file_extension": ".py",
   "mimetype": "text/x-python",
   "name": "python",
   "nbconvert_exporter": "python",
   "pygments_lexer": "ipython3",
   "version": "3.6.4"
  }
 },
 "nbformat": 4,
 "nbformat_minor": 2
}
